{
 "cells": [
  {
   "cell_type": "markdown",
   "metadata": {},
   "source": [
    "# DATA201 Mid-term Test"
   ]
  },
  {
   "cell_type": "markdown",
   "metadata": {},
   "source": [
    "Please use this page http://apps.ecs.vuw.ac.nz/submit/DATA201 for submitssion.\n",
    "\n",
    "The due date is **Friday 22/5/2020 at 4pm**.  \n",
    "\n",
    "(Total 50 Marks)"
   ]
  },
  {
   "cell_type": "markdown",
   "metadata": {},
   "source": [
    "1. Go to the Moral Machine website (http://moralmachine.mit.edu/) and do the “Judge” exercise.  Also watch this clip https://www.youtube.com/watch?v=nhCh1pBsS80 about the Moral Machine, driverless cars, and related issues.\n",
    "Then write 200-300 words on how you would approach working on a team of engineers and programmers designing a driverless car with the capability to make choices of the kind that are needed in the Judging exercise.   In your answer consider the ethical choices that are implied - including a discussion of which ones the team **does** have responsibility for, and which ones they **don't**. **(10 Marks)**"
   ]
  },
  {
   "cell_type": "markdown",
   "metadata": {},
   "source": [
    "Answer:"
   ]
  },
  {
   "cell_type": "markdown",
   "metadata": {},
   "source": []
  },
  {
   "cell_type": "markdown",
   "metadata": {},
   "source": [
    "2. The following table of relationship status by age group potentially exposes characteristics of the individuals it contains, with one individual at particular risk of disclosure.  Confidentialise the table in two ways (cell suppression to conceal the riskiest cell, and random rounding to base 3) – clearly explain the steps you have taken in each case, and comment on the advantages/disadvantages of the two approaches. **(10 Marks)**\n",
    "\n",
    "Relationship Status by age: \n",
    "\n",
    "| Age Group | Single | Opposite sex couple | Same sex couple | Other | Total |\n",
    "| --- |  --- |  --- |  --- |  --- |  --- | \n",
    "| 15-19 | 0 | 0 | 1 | 0 | 1 |\n",
    "| 20-24 | 8 | 7 | 4 | 2 | 21 |\n",
    "| 25-29 | 14 | 10 | 4 | 0 | 28 |\n",
    "| 30-34 | 7 | 8 | 0 | 1 | 16 |\n",
    "| 34-39 | 3 | 2 | 3 | 1 | 9 |\n",
    "| Total | 32 | 27 | 12 | 4 | 75 |\n"
   ]
  },
  {
   "cell_type": "markdown",
   "metadata": {},
   "source": [
    "Answer:"
   ]
  },
  {
   "cell_type": "markdown",
   "metadata": {},
   "source": []
  },
  {
   "cell_type": "markdown",
   "metadata": {},
   "source": [
    "3. Study the Python code below and its output the answer the questions that follow. **(10 marks)**\n",
    "\n",
    "Code (the dataset is not provided so you should not try running the code):"
   ]
  },
  {
   "cell_type": "raw",
   "metadata": {},
   "source": [
    "import pandas as pd\n",
    "import numpy as np\n",
    "from sklearn.compose import ColumnTransformer\n",
    "from sklearn.pipeline import Pipeline\n",
    "from sklearn.impute import SimpleImputer\n",
    "from sklearn.preprocessing import StandardScaler, OneHotEncoder\n",
    "from sklearn.linear_model import LogisticRegression\n",
    "from sklearn.model_selection import train_test_split, GridSearchCV\n",
    "\n",
    "np.random.seed(0)\n",
    "\n",
    "data = pd.read_csv(\"dataset.csv\")\n",
    "\n",
    "print(data.info())\n",
    "print(data.survived.unique())\n",
    "\n",
    "numeric_features = ['age', 'fare']\n",
    "numeric_transformer = Pipeline(steps=[\n",
    "    ('imputer', SimpleImputer(strategy='median')),\n",
    "    ('scaler', StandardScaler())])\n",
    "\n",
    "categorical_features = ['embarked', 'sex', 'pclass']\n",
    "categorical_transformer = Pipeline(steps=[\n",
    "    ('imputer', SimpleImputer(strategy='constant', fill_value='missing')),\n",
    "    ('onehot', OneHotEncoder(handle_unknown='ignore'))])\n",
    "\n",
    "preprocessor = ColumnTransformer(\n",
    "    transformers=[\n",
    "        ('num', numeric_transformer, numeric_features),\n",
    "        ('cat', categorical_transformer, categorical_features)])\n",
    "\n",
    "clf = Pipeline(steps=[('preprocessor', preprocessor),\n",
    "                      ('classifier', LogisticRegression(solver='lbfgs'))])\n",
    "\n",
    "X = data.drop('survived', axis=1)\n",
    "y = data['survived']\n",
    "\n",
    "X_train, X_test, y_train, y_test = train_test_split(X, y, test_size=0.2)\n",
    "print(X_train.shape[0])\n",
    "\n",
    "clf.fit(X_train, y_train)\n",
    "print(\"%.3f\" % clf.score(X_test, y_test))\n",
    "\n",
    "param_grid = {\n",
    "    'preprocessor__num__imputer__strategy': ['mean', 'median'],\n",
    "    'classifier__C': [0.1, 1.0, 10, 100],\n",
    "}\n",
    "\n",
    "grid_search = GridSearchCV(clf, param_grid, cv=10, iid=False)\n",
    "grid_search.fit(X_train, y_train)\n",
    "print(grid_search.best_params_)\n",
    "print(\"%.3f\" % grid_search.score(X_test, y_test))"
   ]
  },
  {
   "cell_type": "markdown",
   "metadata": {},
   "source": [
    "Output:"
   ]
  },
  {
   "cell_type": "raw",
   "metadata": {},
   "source": [
    "<class 'pandas.core.frame.DataFrame'>\n",
    "RangeIndex: 1309 entries, 0 to 1308\n",
    "Data columns (total 14 columns):\n",
    "pclass       1309 non-null int64\n",
    "survived     1309 non-null int64\n",
    "name         1309 non-null object\n",
    "sex          1309 non-null object\n",
    "age          1046 non-null float64\n",
    "sibsp        1309 non-null int64\n",
    "parch        1309 non-null int64\n",
    "ticket       1309 non-null object\n",
    "fare         1308 non-null float64\n",
    "cabin        295 non-null object\n",
    "embarked     1307 non-null object\n",
    "boat         486 non-null object\n",
    "body         121 non-null float64\n",
    "home.dest    745 non-null object\n",
    "dtypes: float64(3), int64(4), object(7)\n",
    "memory usage: 143.2+ KB\n",
    "None\n",
    "[1 0]\n",
    "1047\n",
    "0.790\n",
    "{'classifier__C': 0.1, 'preprocessor__num__imputer__strategy': 'mean'}\n",
    "0.798"
   ]
  },
  {
   "cell_type": "markdown",
   "metadata": {},
   "source": [
    "Questions:"
   ]
  },
  {
   "cell_type": "markdown",
   "metadata": {},
   "source": [
    "   a. How many examples and features are there in the given dataset? (1 mark)\n",
    "    \n",
    "   b. Which feature has the largest number of missing values? How many? (1 mark)\n",
    "\n",
    "   c. Which feature is used as the label for the classification problem in the code? How many classes are there? (1 mark)\n",
    "\n",
    "   d. How many samples are there in the test set? (1 mark)\n",
    "\n",
    "   e. What are the features used for model training? (1 mark)\n",
    "\n",
    "   f. What is the name of the classification algorithm used in the code? (1 mark)\n",
    "\n",
    "   g. What was done to the numerical features before model training? (2 marks)\n",
    "\n",
    "   h. From the outcome of using `GridSearchSV`, what should be done to improve the model `clf`? (1 mark)\n",
    "\n",
    "   i. If the hyperparameters found from using `GridSearchSV` are used, will the accuracy of the model on the test set improve? (1 mark)"
   ]
  },
  {
   "cell_type": "markdown",
   "metadata": {},
   "source": [
    "Answer:"
   ]
  },
  {
   "cell_type": "markdown",
   "metadata": {},
   "source": []
  },
  {
   "cell_type": "markdown",
   "metadata": {},
   "source": [
    "4. The purpose of setting the random_state parameter in `train_test_split` is: (select all that apply) **(1 mark)**\n",
    "\n",
    "    a. To avoid predictable splitting of the data\n",
    "    \n",
    "    b. To make experiments easily reproducible by always using the same partitioning of the data\n",
    "    \n",
    "    c. To avoid bias in data splitting\n",
    "    \n",
    "    d. To split the data into similar subsets so that bias is not introduced into the final results"
   ]
  },
  {
   "cell_type": "markdown",
   "metadata": {},
   "source": [
    "Answer:"
   ]
  },
  {
   "cell_type": "markdown",
   "metadata": {},
   "source": []
  },
  {
   "cell_type": "markdown",
   "metadata": {},
   "source": [
    "5. Given a dataset with 10,000 observations and 50 features plus one label, what would be the dimensions of X_train, y_train, X_test, and y_test? Assume a train/test split of 75%/25%. **(1 mark)**\n",
    "\n",
    "    a. X_train: (2500, ) ; y_train: (2500, 50) ; X_test: (7500, ) ; y_test: (7500, 50)\n",
    "    \n",
    "    b. X_train: (10000, 28) ; y_train: (10000, ) ; X_test: (10000, 12) ; y_test: (10000, )\n",
    "    \n",
    "    c. X_train: (2500, 50) ; y_train: (2500, ) ; X_test: (7500, 50) ; y_test: (7500, )\n",
    "    \n",
    "    d. X_train: (7500, 50) ; y_train: (7500, ) ; X_test: (2500, 50) ; y_test: (2500, )\n",
    "    \n",
    "    e. None of the above"
   ]
  },
  {
   "cell_type": "markdown",
   "metadata": {},
   "source": [
    "Answer:"
   ]
  },
  {
   "cell_type": "markdown",
   "metadata": {},
   "source": []
  },
  {
   "cell_type": "markdown",
   "metadata": {},
   "source": [
    "6. Which of the following is an example of multiclass classification (select all that apply)? **(1 mark)**\n",
    "\n",
    "    a. Classify a set of fruits as apples, oranges, bananas, or lemons\n",
    "    \n",
    "    b. Predict whether an article is relevant to one or more topics (e.g. sports, politics, finance, science)\n",
    "    \n",
    "    c. Predicting both the rating and profit of soon to be released movie\n",
    "    \n",
    "    d. Classify a voice recording as an authorized user or not an authorized user."
   ]
  },
  {
   "cell_type": "markdown",
   "metadata": {},
   "source": [
    "Answer:"
   ]
  },
  {
   "cell_type": "markdown",
   "metadata": {},
   "source": []
  },
  {
   "cell_type": "markdown",
   "metadata": {},
   "source": [
    "7. Looking at the plot below which shows accuracy scores for different values of a regularization parameter *lambda*, what value of *lambda* is the best choice for generalization? **(2 marks)**\n",
    "\n",
    "![](images/lambda_score.png \"\")"
   ]
  },
  {
   "cell_type": "markdown",
   "metadata": {},
   "source": [
    "Answer:"
   ]
  },
  {
   "cell_type": "markdown",
   "metadata": {},
   "source": []
  },
  {
   "cell_type": "markdown",
   "metadata": {},
   "source": [
    "8. Which of the following is true of cross-validation (select all that apply)? **(1 mark)**\n",
    "\n",
    "    a. Helps prevent knowledge about the test set from leaking into the model\n",
    "    \n",
    "    b. Fits multiple models on different splits of the data\n",
    "    \n",
    "    c. Increases generalization ability and computational complexity\n",
    "    \n",
    "    d. Increases generalization ability and reduces computational complexity\n",
    "    \n",
    "    e. Removes need for training and test sets"
   ]
  },
  {
   "cell_type": "markdown",
   "metadata": {},
   "source": [
    "Answer:"
   ]
  },
  {
   "cell_type": "markdown",
   "metadata": {},
   "source": []
  },
  {
   "cell_type": "markdown",
   "metadata": {},
   "source": [
    "9. A supervised learning model has been built to predict whether someone is infected with a new strain of a virus. The probability of any one person having the virus is 1%. Using accuracy as a metric, what would be a good choice for a baseline accuracy score that the new model would want to outperform? **(1 mark)**"
   ]
  },
  {
   "cell_type": "markdown",
   "metadata": {},
   "source": [
    "Answer:"
   ]
  },
  {
   "cell_type": "markdown",
   "metadata": {},
   "source": []
  },
  {
   "cell_type": "markdown",
   "metadata": {},
   "source": [
    "10. Given the following confusion matrix:\n",
    "\n",
    "|                    | Predicted Positive | Predicted Negative |\n",
    "|--------------------|--------------------|--------------------|\n",
    "| Condition Positive |         96         |          4         |\n",
    "| Condition Negative |          8         |         19         |\n",
    "\n",
    "Compute the *accuracy*, *precision*, *recall*, and *specificity* (each to three decimal places) **(4 marks)**"
   ]
  },
  {
   "cell_type": "markdown",
   "metadata": {},
   "source": [
    "Answer:"
   ]
  },
  {
   "cell_type": "markdown",
   "metadata": {},
   "source": []
  },
  {
   "cell_type": "markdown",
   "metadata": {},
   "source": [
    "11. Given the following models and AUC scores, find the corresponding ROC curve to each model. **(1 mark)**\n",
    "    + Model 1 test set AUC score: 0.91\n",
    "    + Model 2 test set AUC score: 0.50\n",
    "    + Model 3 test set AUC score: 0.56\n",
    "    \n",
    "![](images/ROC.png \"\")"
   ]
  },
  {
   "cell_type": "markdown",
   "metadata": {},
   "source": [
    "Answer:"
   ]
  },
  {
   "cell_type": "markdown",
   "metadata": {},
   "source": []
  },
  {
   "cell_type": "markdown",
   "metadata": {},
   "source": [
    "12. A feature F1 can take certain value: A, B, C, D, E, & F and represents grade of students from a college. Which of the following statement is true in following case? **(1 mark)**\n",
    "\n",
    "    a. Feature F1 is an example of nominal variable.\n",
    "    \n",
    "    b. Feature F1 is an example of ordinal variable.\n",
    "\n",
    "    c. It doesn’t belong to any of the above categories.\n",
    "    \n",
    "    d. Both of a and b"
   ]
  },
  {
   "cell_type": "markdown",
   "metadata": {},
   "source": [
    "Answer:"
   ]
  },
  {
   "cell_type": "markdown",
   "metadata": {},
   "source": []
  },
  {
   "cell_type": "markdown",
   "metadata": {},
   "source": [
    "13. [True or False] It is possible for a Pearson correlation between two variables to be zero but their values are still related to each other. **(1 mark)**"
   ]
  },
  {
   "cell_type": "markdown",
   "metadata": {},
   "source": [
    "Answer:"
   ]
  },
  {
   "cell_type": "markdown",
   "metadata": {},
   "source": []
  },
  {
   "cell_type": "markdown",
   "metadata": {},
   "source": [
    "14. Suppose you are given 7 scatter plots from 1 to 7 as below (from left to right) and you want to compare Pearson correlation coefficients between variables of each scatterplot. \n",
    "\n",
    "![](images/corr.png \"\")\n",
    "\n",
    "Consider the following statements about the relative values of the coefficients.\n",
    "\n",
    "   A.\t1<2<3<4\n",
    "   \n",
    "   B.\t1>2>3>4\n",
    "   \n",
    "   C.\t7<6<5<4\n",
    "   \n",
    "   D.\t7>6>5>4\n",
    "\n",
    "Which pair of statements is correct? **(1 mark)**\n",
    "\n",
    "   a. A and C\n",
    "    \n",
    "   b. B and C\n",
    "    \n",
    "   c. A and D\n",
    "    \n",
    "   d. B and D"
   ]
  },
  {
   "cell_type": "markdown",
   "metadata": {},
   "source": [
    "Answer:"
   ]
  },
  {
   "cell_type": "markdown",
   "metadata": {},
   "source": []
  },
  {
   "cell_type": "markdown",
   "metadata": {},
   "source": [
    "15. Run the code in the Notebook cell below and write **one line** of code for each of the following questions **(5 marks)** "
   ]
  },
  {
   "cell_type": "code",
   "execution_count": 4,
   "metadata": {},
   "outputs": [],
   "source": [
    "from sklearn.svm import SVC\n",
    "from sklearn.preprocessing import StandardScaler\n",
    "from sklearn.datasets import make_classification\n",
    "from sklearn.model_selection import train_test_split\n",
    "from sklearn.metrics import precision_score, recall_score\n",
    "from sklearn.pipeline import Pipeline\n",
    "from sklearn.linear_model import SGDClassifier\n",
    "\n",
    "X, y = make_classification(random_state=0)\n",
    "X_train, X_test, y_train, y_test = train_test_split(X, y, random_state=0)\n",
    "pipe = Pipeline([('scaler', StandardScaler()), ('classifier', SGDClassifier(loss='log', random_state=42))])\n",
    "pipe.fit(X_train, y_train);"
   ]
  },
  {
   "cell_type": "markdown",
   "metadata": {},
   "source": [
    "   a. Compute the precision score of the model on the test set (1 mark):"
   ]
  },
  {
   "cell_type": "code",
   "execution_count": null,
   "metadata": {},
   "outputs": [],
   "source": []
  },
  {
   "cell_type": "markdown",
   "metadata": {},
   "source": [
    "   b. Compute the recall score of the model on the test set (1 mark):"
   ]
  },
  {
   "cell_type": "code",
   "execution_count": null,
   "metadata": {},
   "outputs": [],
   "source": []
  },
  {
   "cell_type": "markdown",
   "metadata": {},
   "source": [
    "   c. Predict the class of the last instance in the test set (1 mark):"
   ]
  },
  {
   "cell_type": "code",
   "execution_count": null,
   "metadata": {},
   "outputs": [],
   "source": []
  },
  {
   "cell_type": "markdown",
   "metadata": {},
   "source": [
    "   d. Print the total number of instances in the test set which are correctly classified (2 marks):"
   ]
  },
  {
   "cell_type": "code",
   "execution_count": null,
   "metadata": {},
   "outputs": [],
   "source": []
  }
 ],
 "metadata": {
  "kernelspec": {
   "display_name": "Python 3",
   "language": "python",
   "name": "python3"
  },
  "language_info": {
   "codemirror_mode": {
    "name": "ipython",
    "version": 3
   },
   "file_extension": ".py",
   "mimetype": "text/x-python",
   "name": "python",
   "nbconvert_exporter": "python",
   "pygments_lexer": "ipython3",
   "version": "3.7.6"
  }
 },
 "nbformat": 4,
 "nbformat_minor": 4
}
