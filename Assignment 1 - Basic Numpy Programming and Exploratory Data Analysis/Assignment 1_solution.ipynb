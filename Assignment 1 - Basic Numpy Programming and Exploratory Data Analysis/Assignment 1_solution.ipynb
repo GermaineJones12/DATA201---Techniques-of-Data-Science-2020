{
 "cells": [
  {
   "cell_type": "code",
   "execution_count": 2,
   "metadata": {},
   "outputs": [],
   "source": [
    "import numpy as np\n",
    "import pandas as pd\n",
    "import matplotlib.pyplot as pl\n",
    "%matplotlib inline"
   ]
  },
  {
   "cell_type": "markdown",
   "metadata": {},
   "source": [
    "Dowload LifeExpectancy.csv from the course webpage, and read it into Python, skipping the necessary rows and reading the header. Make the country name be an index. Print the first few rows to ensure that you have it correct. [2 marks]"
   ]
  },
  {
   "cell_type": "code",
   "execution_count": 71,
   "metadata": {},
   "outputs": [
    {
     "data": {
      "text/html": [
       "<div>\n",
       "<style scoped>\n",
       "    .dataframe tbody tr th:only-of-type {\n",
       "        vertical-align: middle;\n",
       "    }\n",
       "\n",
       "    .dataframe tbody tr th {\n",
       "        vertical-align: top;\n",
       "    }\n",
       "\n",
       "    .dataframe thead th {\n",
       "        text-align: right;\n",
       "    }\n",
       "</style>\n",
       "<table border=\"1\" class=\"dataframe\">\n",
       "  <thead>\n",
       "    <tr style=\"text-align: right;\">\n",
       "      <th></th>\n",
       "      <th>Country Code</th>\n",
       "      <th>Indicator Name</th>\n",
       "      <th>Indicator Code</th>\n",
       "      <th>1960</th>\n",
       "      <th>1961</th>\n",
       "      <th>1962</th>\n",
       "      <th>1963</th>\n",
       "      <th>1964</th>\n",
       "      <th>1965</th>\n",
       "      <th>1966</th>\n",
       "      <th>...</th>\n",
       "      <th>2010</th>\n",
       "      <th>2011</th>\n",
       "      <th>2012</th>\n",
       "      <th>2013</th>\n",
       "      <th>2014</th>\n",
       "      <th>2015</th>\n",
       "      <th>2016</th>\n",
       "      <th>2017</th>\n",
       "      <th>2018</th>\n",
       "      <th>2019</th>\n",
       "    </tr>\n",
       "    <tr>\n",
       "      <th>Country Name</th>\n",
       "      <th></th>\n",
       "      <th></th>\n",
       "      <th></th>\n",
       "      <th></th>\n",
       "      <th></th>\n",
       "      <th></th>\n",
       "      <th></th>\n",
       "      <th></th>\n",
       "      <th></th>\n",
       "      <th></th>\n",
       "      <th></th>\n",
       "      <th></th>\n",
       "      <th></th>\n",
       "      <th></th>\n",
       "      <th></th>\n",
       "      <th></th>\n",
       "      <th></th>\n",
       "      <th></th>\n",
       "      <th></th>\n",
       "      <th></th>\n",
       "      <th></th>\n",
       "    </tr>\n",
       "  </thead>\n",
       "  <tbody>\n",
       "    <tr>\n",
       "      <th>Aruba</th>\n",
       "      <td>ABW</td>\n",
       "      <td>Life expectancy at birth, total (years)</td>\n",
       "      <td>SP.DYN.LE00.IN</td>\n",
       "      <td>65.662</td>\n",
       "      <td>66.074</td>\n",
       "      <td>66.444</td>\n",
       "      <td>66.787</td>\n",
       "      <td>67.113</td>\n",
       "      <td>67.435</td>\n",
       "      <td>67.762</td>\n",
       "      <td>...</td>\n",
       "      <td>75.017</td>\n",
       "      <td>75.158</td>\n",
       "      <td>75.299</td>\n",
       "      <td>75.441</td>\n",
       "      <td>75.583</td>\n",
       "      <td>75.725</td>\n",
       "      <td>75.868</td>\n",
       "      <td>76.010</td>\n",
       "      <td>NaN</td>\n",
       "      <td>NaN</td>\n",
       "    </tr>\n",
       "    <tr>\n",
       "      <th>Afghanistan</th>\n",
       "      <td>AFG</td>\n",
       "      <td>Life expectancy at birth, total (years)</td>\n",
       "      <td>SP.DYN.LE00.IN</td>\n",
       "      <td>32.446</td>\n",
       "      <td>32.962</td>\n",
       "      <td>33.471</td>\n",
       "      <td>33.971</td>\n",
       "      <td>34.463</td>\n",
       "      <td>34.948</td>\n",
       "      <td>35.430</td>\n",
       "      <td>...</td>\n",
       "      <td>61.028</td>\n",
       "      <td>61.553</td>\n",
       "      <td>62.054</td>\n",
       "      <td>62.525</td>\n",
       "      <td>62.966</td>\n",
       "      <td>63.377</td>\n",
       "      <td>63.763</td>\n",
       "      <td>64.130</td>\n",
       "      <td>NaN</td>\n",
       "      <td>NaN</td>\n",
       "    </tr>\n",
       "    <tr>\n",
       "      <th>Angola</th>\n",
       "      <td>AGO</td>\n",
       "      <td>Life expectancy at birth, total (years)</td>\n",
       "      <td>SP.DYN.LE00.IN</td>\n",
       "      <td>37.524</td>\n",
       "      <td>37.811</td>\n",
       "      <td>38.113</td>\n",
       "      <td>38.430</td>\n",
       "      <td>38.760</td>\n",
       "      <td>39.102</td>\n",
       "      <td>39.454</td>\n",
       "      <td>...</td>\n",
       "      <td>55.350</td>\n",
       "      <td>56.330</td>\n",
       "      <td>57.236</td>\n",
       "      <td>58.054</td>\n",
       "      <td>58.776</td>\n",
       "      <td>59.398</td>\n",
       "      <td>59.925</td>\n",
       "      <td>60.379</td>\n",
       "      <td>NaN</td>\n",
       "      <td>NaN</td>\n",
       "    </tr>\n",
       "    <tr>\n",
       "      <th>Albania</th>\n",
       "      <td>ALB</td>\n",
       "      <td>Life expectancy at birth, total (years)</td>\n",
       "      <td>SP.DYN.LE00.IN</td>\n",
       "      <td>62.283</td>\n",
       "      <td>63.301</td>\n",
       "      <td>64.190</td>\n",
       "      <td>64.914</td>\n",
       "      <td>65.463</td>\n",
       "      <td>65.850</td>\n",
       "      <td>66.110</td>\n",
       "      <td>...</td>\n",
       "      <td>76.562</td>\n",
       "      <td>76.914</td>\n",
       "      <td>77.252</td>\n",
       "      <td>77.554</td>\n",
       "      <td>77.813</td>\n",
       "      <td>78.025</td>\n",
       "      <td>78.194</td>\n",
       "      <td>78.333</td>\n",
       "      <td>NaN</td>\n",
       "      <td>NaN</td>\n",
       "    </tr>\n",
       "    <tr>\n",
       "      <th>Andorra</th>\n",
       "      <td>AND</td>\n",
       "      <td>Life expectancy at birth, total (years)</td>\n",
       "      <td>SP.DYN.LE00.IN</td>\n",
       "      <td>NaN</td>\n",
       "      <td>NaN</td>\n",
       "      <td>NaN</td>\n",
       "      <td>NaN</td>\n",
       "      <td>NaN</td>\n",
       "      <td>NaN</td>\n",
       "      <td>NaN</td>\n",
       "      <td>...</td>\n",
       "      <td>NaN</td>\n",
       "      <td>NaN</td>\n",
       "      <td>NaN</td>\n",
       "      <td>NaN</td>\n",
       "      <td>NaN</td>\n",
       "      <td>NaN</td>\n",
       "      <td>NaN</td>\n",
       "      <td>NaN</td>\n",
       "      <td>NaN</td>\n",
       "      <td>NaN</td>\n",
       "    </tr>\n",
       "  </tbody>\n",
       "</table>\n",
       "<p>5 rows × 63 columns</p>\n",
       "</div>"
      ],
      "text/plain": [
       "             Country Code                           Indicator Name  \\\n",
       "Country Name                                                         \n",
       "Aruba                 ABW  Life expectancy at birth, total (years)   \n",
       "Afghanistan           AFG  Life expectancy at birth, total (years)   \n",
       "Angola                AGO  Life expectancy at birth, total (years)   \n",
       "Albania               ALB  Life expectancy at birth, total (years)   \n",
       "Andorra               AND  Life expectancy at birth, total (years)   \n",
       "\n",
       "              Indicator Code    1960    1961    1962    1963    1964    1965  \\\n",
       "Country Name                                                                   \n",
       "Aruba         SP.DYN.LE00.IN  65.662  66.074  66.444  66.787  67.113  67.435   \n",
       "Afghanistan   SP.DYN.LE00.IN  32.446  32.962  33.471  33.971  34.463  34.948   \n",
       "Angola        SP.DYN.LE00.IN  37.524  37.811  38.113  38.430  38.760  39.102   \n",
       "Albania       SP.DYN.LE00.IN  62.283  63.301  64.190  64.914  65.463  65.850   \n",
       "Andorra       SP.DYN.LE00.IN     NaN     NaN     NaN     NaN     NaN     NaN   \n",
       "\n",
       "                1966  ...    2010    2011    2012    2013    2014    2015  \\\n",
       "Country Name          ...                                                   \n",
       "Aruba         67.762  ...  75.017  75.158  75.299  75.441  75.583  75.725   \n",
       "Afghanistan   35.430  ...  61.028  61.553  62.054  62.525  62.966  63.377   \n",
       "Angola        39.454  ...  55.350  56.330  57.236  58.054  58.776  59.398   \n",
       "Albania       66.110  ...  76.562  76.914  77.252  77.554  77.813  78.025   \n",
       "Andorra          NaN  ...     NaN     NaN     NaN     NaN     NaN     NaN   \n",
       "\n",
       "                2016    2017  2018  2019  \n",
       "Country Name                              \n",
       "Aruba         75.868  76.010   NaN   NaN  \n",
       "Afghanistan   63.763  64.130   NaN   NaN  \n",
       "Angola        59.925  60.379   NaN   NaN  \n",
       "Albania       78.194  78.333   NaN   NaN  \n",
       "Andorra          NaN     NaN   NaN   NaN  \n",
       "\n",
       "[5 rows x 63 columns]"
      ]
     },
     "execution_count": 71,
     "metadata": {},
     "output_type": "execute_result"
    }
   ],
   "source": [
    "life = pd.read_csv('/Users/marslast/Dropbox/Transfer/Teaching/DATA201/Datasets/LifeExpectancy.csv',skiprows=4,index_col=0,header=[0])\n",
    "life.head()"
   ]
  },
  {
   "cell_type": "markdown",
   "metadata": {},
   "source": [
    "Drop rows that consist of NaN values. Be careful how you do this, the naive way of just using dropna() without looking at the data a bit does not do what you expected.\n",
    "You might need to know that to delete a column you can use `life.drop([list of column names],axis=1`. [2 marks]"
   ]
  },
  {
   "cell_type": "code",
   "execution_count": 72,
   "metadata": {},
   "outputs": [],
   "source": [
    "life = life.drop(['2018','2019'],axis=1)"
   ]
  },
  {
   "cell_type": "code",
   "execution_count": 73,
   "metadata": {},
   "outputs": [
    {
     "data": {
      "text/html": [
       "<div>\n",
       "<style scoped>\n",
       "    .dataframe tbody tr th:only-of-type {\n",
       "        vertical-align: middle;\n",
       "    }\n",
       "\n",
       "    .dataframe tbody tr th {\n",
       "        vertical-align: top;\n",
       "    }\n",
       "\n",
       "    .dataframe thead th {\n",
       "        text-align: right;\n",
       "    }\n",
       "</style>\n",
       "<table border=\"1\" class=\"dataframe\">\n",
       "  <thead>\n",
       "    <tr style=\"text-align: right;\">\n",
       "      <th></th>\n",
       "      <th>Country Code</th>\n",
       "      <th>Indicator Name</th>\n",
       "      <th>Indicator Code</th>\n",
       "      <th>1960</th>\n",
       "      <th>1961</th>\n",
       "      <th>1962</th>\n",
       "      <th>1963</th>\n",
       "      <th>1964</th>\n",
       "      <th>1965</th>\n",
       "      <th>1966</th>\n",
       "      <th>...</th>\n",
       "      <th>2008</th>\n",
       "      <th>2009</th>\n",
       "      <th>2010</th>\n",
       "      <th>2011</th>\n",
       "      <th>2012</th>\n",
       "      <th>2013</th>\n",
       "      <th>2014</th>\n",
       "      <th>2015</th>\n",
       "      <th>2016</th>\n",
       "      <th>2017</th>\n",
       "    </tr>\n",
       "    <tr>\n",
       "      <th>Country Name</th>\n",
       "      <th></th>\n",
       "      <th></th>\n",
       "      <th></th>\n",
       "      <th></th>\n",
       "      <th></th>\n",
       "      <th></th>\n",
       "      <th></th>\n",
       "      <th></th>\n",
       "      <th></th>\n",
       "      <th></th>\n",
       "      <th></th>\n",
       "      <th></th>\n",
       "      <th></th>\n",
       "      <th></th>\n",
       "      <th></th>\n",
       "      <th></th>\n",
       "      <th></th>\n",
       "      <th></th>\n",
       "      <th></th>\n",
       "      <th></th>\n",
       "      <th></th>\n",
       "    </tr>\n",
       "  </thead>\n",
       "  <tbody>\n",
       "    <tr>\n",
       "      <th>Aruba</th>\n",
       "      <td>ABW</td>\n",
       "      <td>Life expectancy at birth, total (years)</td>\n",
       "      <td>SP.DYN.LE00.IN</td>\n",
       "      <td>65.662000</td>\n",
       "      <td>66.074000</td>\n",
       "      <td>66.444000</td>\n",
       "      <td>66.787000</td>\n",
       "      <td>67.113000</td>\n",
       "      <td>67.435000</td>\n",
       "      <td>67.762000</td>\n",
       "      <td>...</td>\n",
       "      <td>74.725000</td>\n",
       "      <td>74.87200</td>\n",
       "      <td>75.017000</td>\n",
       "      <td>75.158000</td>\n",
       "      <td>75.299000</td>\n",
       "      <td>75.441000</td>\n",
       "      <td>75.583000</td>\n",
       "      <td>75.725000</td>\n",
       "      <td>75.868000</td>\n",
       "      <td>76.010000</td>\n",
       "    </tr>\n",
       "    <tr>\n",
       "      <th>Afghanistan</th>\n",
       "      <td>AFG</td>\n",
       "      <td>Life expectancy at birth, total (years)</td>\n",
       "      <td>SP.DYN.LE00.IN</td>\n",
       "      <td>32.446000</td>\n",
       "      <td>32.962000</td>\n",
       "      <td>33.471000</td>\n",
       "      <td>33.971000</td>\n",
       "      <td>34.463000</td>\n",
       "      <td>34.948000</td>\n",
       "      <td>35.430000</td>\n",
       "      <td>...</td>\n",
       "      <td>59.930000</td>\n",
       "      <td>60.48400</td>\n",
       "      <td>61.028000</td>\n",
       "      <td>61.553000</td>\n",
       "      <td>62.054000</td>\n",
       "      <td>62.525000</td>\n",
       "      <td>62.966000</td>\n",
       "      <td>63.377000</td>\n",
       "      <td>63.763000</td>\n",
       "      <td>64.130000</td>\n",
       "    </tr>\n",
       "    <tr>\n",
       "      <th>Angola</th>\n",
       "      <td>AGO</td>\n",
       "      <td>Life expectancy at birth, total (years)</td>\n",
       "      <td>SP.DYN.LE00.IN</td>\n",
       "      <td>37.524000</td>\n",
       "      <td>37.811000</td>\n",
       "      <td>38.113000</td>\n",
       "      <td>38.430000</td>\n",
       "      <td>38.760000</td>\n",
       "      <td>39.102000</td>\n",
       "      <td>39.454000</td>\n",
       "      <td>...</td>\n",
       "      <td>53.243000</td>\n",
       "      <td>54.31100</td>\n",
       "      <td>55.350000</td>\n",
       "      <td>56.330000</td>\n",
       "      <td>57.236000</td>\n",
       "      <td>58.054000</td>\n",
       "      <td>58.776000</td>\n",
       "      <td>59.398000</td>\n",
       "      <td>59.925000</td>\n",
       "      <td>60.379000</td>\n",
       "    </tr>\n",
       "    <tr>\n",
       "      <th>Albania</th>\n",
       "      <td>ALB</td>\n",
       "      <td>Life expectancy at birth, total (years)</td>\n",
       "      <td>SP.DYN.LE00.IN</td>\n",
       "      <td>62.283000</td>\n",
       "      <td>63.301000</td>\n",
       "      <td>64.190000</td>\n",
       "      <td>64.914000</td>\n",
       "      <td>65.463000</td>\n",
       "      <td>65.850000</td>\n",
       "      <td>66.110000</td>\n",
       "      <td>...</td>\n",
       "      <td>75.912000</td>\n",
       "      <td>76.22100</td>\n",
       "      <td>76.562000</td>\n",
       "      <td>76.914000</td>\n",
       "      <td>77.252000</td>\n",
       "      <td>77.554000</td>\n",
       "      <td>77.813000</td>\n",
       "      <td>78.025000</td>\n",
       "      <td>78.194000</td>\n",
       "      <td>78.333000</td>\n",
       "    </tr>\n",
       "    <tr>\n",
       "      <th>Arab World</th>\n",
       "      <td>ARB</td>\n",
       "      <td>Life expectancy at birth, total (years)</td>\n",
       "      <td>SP.DYN.LE00.IN</td>\n",
       "      <td>46.546909</td>\n",
       "      <td>47.141621</td>\n",
       "      <td>47.731783</td>\n",
       "      <td>48.320432</td>\n",
       "      <td>48.910019</td>\n",
       "      <td>49.496478</td>\n",
       "      <td>50.072947</td>\n",
       "      <td>...</td>\n",
       "      <td>69.942174</td>\n",
       "      <td>70.15756</td>\n",
       "      <td>70.349916</td>\n",
       "      <td>70.528775</td>\n",
       "      <td>70.703827</td>\n",
       "      <td>70.882254</td>\n",
       "      <td>71.064292</td>\n",
       "      <td>71.249571</td>\n",
       "      <td>71.436497</td>\n",
       "      <td>71.622526</td>\n",
       "    </tr>\n",
       "  </tbody>\n",
       "</table>\n",
       "<p>5 rows × 61 columns</p>\n",
       "</div>"
      ],
      "text/plain": [
       "             Country Code                           Indicator Name  \\\n",
       "Country Name                                                         \n",
       "Aruba                 ABW  Life expectancy at birth, total (years)   \n",
       "Afghanistan           AFG  Life expectancy at birth, total (years)   \n",
       "Angola                AGO  Life expectancy at birth, total (years)   \n",
       "Albania               ALB  Life expectancy at birth, total (years)   \n",
       "Arab World            ARB  Life expectancy at birth, total (years)   \n",
       "\n",
       "              Indicator Code       1960       1961       1962       1963  \\\n",
       "Country Name                                                               \n",
       "Aruba         SP.DYN.LE00.IN  65.662000  66.074000  66.444000  66.787000   \n",
       "Afghanistan   SP.DYN.LE00.IN  32.446000  32.962000  33.471000  33.971000   \n",
       "Angola        SP.DYN.LE00.IN  37.524000  37.811000  38.113000  38.430000   \n",
       "Albania       SP.DYN.LE00.IN  62.283000  63.301000  64.190000  64.914000   \n",
       "Arab World    SP.DYN.LE00.IN  46.546909  47.141621  47.731783  48.320432   \n",
       "\n",
       "                   1964       1965       1966  ...       2008      2009  \\\n",
       "Country Name                                   ...                        \n",
       "Aruba         67.113000  67.435000  67.762000  ...  74.725000  74.87200   \n",
       "Afghanistan   34.463000  34.948000  35.430000  ...  59.930000  60.48400   \n",
       "Angola        38.760000  39.102000  39.454000  ...  53.243000  54.31100   \n",
       "Albania       65.463000  65.850000  66.110000  ...  75.912000  76.22100   \n",
       "Arab World    48.910019  49.496478  50.072947  ...  69.942174  70.15756   \n",
       "\n",
       "                   2010       2011       2012       2013       2014  \\\n",
       "Country Name                                                          \n",
       "Aruba         75.017000  75.158000  75.299000  75.441000  75.583000   \n",
       "Afghanistan   61.028000  61.553000  62.054000  62.525000  62.966000   \n",
       "Angola        55.350000  56.330000  57.236000  58.054000  58.776000   \n",
       "Albania       76.562000  76.914000  77.252000  77.554000  77.813000   \n",
       "Arab World    70.349916  70.528775  70.703827  70.882254  71.064292   \n",
       "\n",
       "                   2015       2016       2017  \n",
       "Country Name                                   \n",
       "Aruba         75.725000  75.868000  76.010000  \n",
       "Afghanistan   63.377000  63.763000  64.130000  \n",
       "Angola        59.398000  59.925000  60.379000  \n",
       "Albania       78.025000  78.194000  78.333000  \n",
       "Arab World    71.249571  71.436497  71.622526  \n",
       "\n",
       "[5 rows x 61 columns]"
      ]
     },
     "execution_count": 73,
     "metadata": {},
     "output_type": "execute_result"
    }
   ],
   "source": [
    "life = life.dropna(axis=0)\n",
    "life.head()"
   ]
  },
  {
   "cell_type": "markdown",
   "metadata": {},
   "source": [
    "Now plot the curves of life expectancy against time on 1 plot for the following countries:  \n",
    "Afghanistan, Nepal, New Zealand, Netherlands\n",
    "\n",
    "Include a legend, and make the labels on the $x$-axis readable. [2 marks]"
   ]
  },
  {
   "cell_type": "code",
   "execution_count": 47,
   "metadata": {},
   "outputs": [
    {
     "data": {
      "text/plain": [
       "<matplotlib.legend.Legend at 0x11ecdb6d8>"
      ]
     },
     "execution_count": 47,
     "metadata": {},
     "output_type": "execute_result"
    },
    {
     "data": {
      "image/png": "[encoded data removed]",
      "text/plain": [
       "<Figure size 432x288 with 1 Axes>"
      ]
     },
     "metadata": {
      "needs_background": "light"
     },
     "output_type": "display_data"
    }
   ],
   "source": [
    "pl.plot(np.arange(1960,2018),life.loc['Afghanistan',\"1960\":\"2017\"])\n",
    "pl.plot(np.arange(1960,2018),life.loc['Nepal',\"1960\":\"2017\"])\n",
    "pl.plot(np.arange(1960,2018),life.loc['New Zealand',\"1960\":\"2017\"])\n",
    "pl.plot(np.arange(1960,2018),life.loc['Netherlands',\"1960\":\"2017\"])\n",
    "pl.legend(['Afghanistan','Nepal','New Zealand','Netherlands'])"
   ]
  },
  {
   "cell_type": "markdown",
   "metadata": {},
   "source": [
    "Plot Rwanda separately, and explain briefly why it has that shape (hint: use wikipedia) [2 marks]"
   ]
  },
  {
   "cell_type": "code",
   "execution_count": 48,
   "metadata": {},
   "outputs": [
    {
     "data": {
      "text/plain": [
       "[<matplotlib.lines.Line2D at 0x11ed14b70>]"
      ]
     },
     "execution_count": 48,
     "metadata": {},
     "output_type": "execute_result"
    },
    {
     "data": {
      "image/png": "[encoded data removed]",
      "text/plain": [
       "<Figure size 432x288 with 1 Axes>"
      ]
     },
     "metadata": {
      "needs_background": "light"
     },
     "output_type": "display_data"
    }
   ],
   "source": [
    "pl.plot(np.arange(1960,2018),life.loc['Rwanda',\"1960\":\"2017\"])"
   ]
  },
  {
   "cell_type": "markdown",
   "metadata": {},
   "source": [
    "There was a nasty civil war in Rwanda at that time."
   ]
  },
  {
   "cell_type": "markdown",
   "metadata": {},
   "source": [
    "Can you detect any other countries where the life expectancy drops significantly? \n",
    "\n",
    "To compute this write some loops over each country and each year. If the next value is below 95% of the current value, print the name of the country.  [4 marks]"
   ]
  },
  {
   "cell_type": "code",
   "execution_count": 98,
   "metadata": {},
   "outputs": [
    {
     "name": "stdout",
     "output_type": "stream",
     "text": [
      "Cambodia\n",
      "Rwanda\n"
     ]
    }
   ],
   "source": [
    "current = 0\n",
    "detected=False\n",
    "for i in life.index:\n",
    "    for j in life.loc[i,\"1960\":\"2017\"]:\n",
    "        if j < current*0.95:\n",
    "            detected = True\n",
    "        current = j\n",
    "    if detected:\n",
    "        print(i)\n",
    "    detected=False\n",
    "    current = 0"
   ]
  },
  {
   "cell_type": "markdown",
   "metadata": {},
   "source": [
    "Compute the mean life expectancy for each of the countries over the whole 57 years. \n",
    "Plot a bar chart of this for the first 10 countries (alphabetic order). [4 marks]"
   ]
  },
  {
   "cell_type": "code",
   "execution_count": 101,
   "metadata": {},
   "outputs": [
    {
     "data": {
      "image/png": "[encoded data removed]",
      "text/plain": [
       "<Figure size 432x288 with 1 Axes>"
      ]
     },
     "metadata": {
      "needs_background": "light"
     },
     "output_type": "display_data"
    }
   ],
   "source": [
    "life['mean'] = life.mean(axis=1)\n",
    "life2 = life.iloc[:10,:]\n",
    "life2.reset_index(level=0, inplace=True)\n",
    "ax = life2.plot.bar(x='Country Name', y='mean', rot=0)"
   ]
  },
  {
   "cell_type": "markdown",
   "metadata": {},
   "source": [
    "Find the 5 countries with the highest mean life expectancy and the 5 with the lowest. You might find `life.sort_values()` helpful, as well as `pd.concat`and `life.transpose`. Plot a box and whisker plot of these countries. [4 marks]"
   ]
  },
  {
   "cell_type": "code",
   "execution_count": 117,
   "metadata": {},
   "outputs": [
    {
     "data": {
      "text/plain": [
       "<matplotlib.axes._subplots.AxesSubplot at 0x11d8d7ef0>"
      ]
     },
     "execution_count": 117,
     "metadata": {},
     "output_type": "execute_result"
    },
    {
     "data": {
      "image/png": "[encoded data removed]",
      "text/plain": [
       "<Figure size 432x288 with 1 Axes>"
      ]
     },
     "metadata": {
      "needs_background": "light"
     },
     "output_type": "display_data"
    }
   ],
   "source": [
    "life = life.sort_values(['mean'],axis=0)\n",
    "life2 = life.iloc[:5,3:-1]\n",
    "life3 = life.iloc[-5:,3:-1]\n",
    "life4 = pd.concat([life2,life3])\n",
    "life4 = life4.transpose()\n",
    "life4.boxplot()"
   ]
  },
  {
   "cell_type": "code",
   "execution_count": 115,
   "metadata": {},
   "outputs": [
    {
     "data": {
      "text/plain": [
       "<matplotlib.axes._subplots.AxesSubplot at 0x11f3716d8>"
      ]
     },
     "execution_count": 115,
     "metadata": {},
     "output_type": "execute_result"
    },
    {
     "data": {
      "image/png": "[encoded data removed]",
      "text/plain": [
       "<Figure size 432x288 with 1 Axes>"
      ]
     },
     "metadata": {
      "needs_background": "light"
     },
     "output_type": "display_data"
    }
   ],
   "source": []
  },
  {
   "cell_type": "code",
   "execution_count": null,
   "metadata": {},
   "outputs": [],
   "source": []
  }
 ],
 "metadata": {
  "kernelspec": {
   "display_name": "Python 3",
   "language": "python",
   "name": "python3"
  },
  "language_info": {
   "codemirror_mode": {
    "name": "ipython",
    "version": 3
   },
   "file_extension": ".py",
   "mimetype": "text/x-python",
   "name": "python",
   "nbconvert_exporter": "python",
   "pygments_lexer": "ipython3",
   "version": "3.7.3"
  }
 },
 "nbformat": 4,
 "nbformat_minor": 4
}
