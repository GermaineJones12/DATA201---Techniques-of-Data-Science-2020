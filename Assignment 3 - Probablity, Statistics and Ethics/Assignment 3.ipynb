{
 "cells": [
  {
   "cell_type": "markdown",
   "metadata": {},
   "source": [
    "# Assignment 3 - Probability and Statistics, Ethics and privacy\n",
    "\n",
    "This assignment is worth 20% of your final grade.\n",
    "\n",
    "It is due at **6pm on Friday 15 May**, and should be submitted as a single Jupyter Notebook, through the usual online ECS submission system (https://apps.ecs.vuw.ac.nz/submit/DATA201) .\n",
    "\n",
    "The assignment makes use of the `scipy.stats` package and the `statsmodels.formula.api` package.  It draws on material from Weeks 4 and 5, lectured by Richard Arnold.  "
   ]
  },
  {
   "cell_type": "markdown",
   "metadata": {},
   "source": [
    "## Probability Distributions from data"
   ]
  },
  {
   "cell_type": "markdown",
   "metadata": {},
   "source": [
    "(12 Marks)\n",
    "\n",
    "Read the `EuropeanBirds.csv` data set of characteristics of 500 species of European Birds, which you can download from the course website.\n",
    "\n",
    "Note: you will need to specify `encoding='latin1'` when you read the file in.\n",
    "\n",
    "You will also need to consult the accompany information file `EuropeanBirds-Information.txt` in order to interpret the content of the data set.\n",
    "\n",
    "Sourced from: Storchová, Lenka; Hořák, David (2018), Data from: Life-history characteristics of European birds, Dryad, Dataset, https://datadryad.org/stash/dataset/doi:10.5061/dryad.n6k3n"
   ]
  },
  {
   "cell_type": "markdown",
   "metadata": {},
   "source": [
    "1. Calculate the probabilities of the various types of nest building.  What is the probability that a male is involved in nest building?"
   ]
  },
  {
   "cell_type": "markdown",
   "metadata": {},
   "source": [
    "2. How many bird species have a solely monogamous mating system?"
   ]
  },
  {
   "cell_type": "markdown",
   "metadata": {},
   "source": [
    "3. After monogamy only, what is the next most common mating system?"
   ]
  },
  {
   "cell_type": "markdown",
   "metadata": {},
   "source": [
    "4. What is the probability that a species is Sedentary (lives in the same area in both the breeding and non-breeding season)?"
   ]
  },
  {
   "cell_type": "markdown",
   "metadata": {},
   "source": [
    "5. What is the probability that a species is Sedentary **and** occupies human settlements in its breeding area?"
   ]
  },
  {
   "cell_type": "markdown",
   "metadata": {},
   "source": [
    "6. What is the probability that a Sedentary species occupies human settlements in its breeding area?"
   ]
  },
  {
   "cell_type": "markdown",
   "metadata": {},
   "source": [
    "7. What is the probability that a species is Sedentary, given that it occupies human settlements in its breeding area?"
   ]
  },
  {
   "cell_type": "markdown",
   "metadata": {},
   "source": [
    "8. A test for Coronavirus is 70% likely to detect the infection if it is present, and 99.1% likely to return a negative test if the infection is absent.   If the prevalence of the disease (the proportion of people who have the disease) is 0.1%, then what is the probability that a person who tests positive actually has the disease?"
   ]
  },
  {
   "cell_type": "markdown",
   "metadata": {},
   "source": [
    "9. How would your answer above change if the probability of a false positive test was zero?"
   ]
  },
  {
   "cell_type": "markdown",
   "metadata": {},
   "source": [
    "## Theoretical Probability Distributions"
   ]
  },
  {
   "cell_type": "markdown",
   "metadata": {},
   "source": [
    "(5 Marks)\n",
    "\n",
    "10. A Poisson random variable is often used to model counts of customer arrivals in a shop.  Assume that the number of customers to arrive in a particular hour follows a Poisson(5) distribution.  Compute and plot the probabililty distribution of a Poisson(5) distribution.  (Plot the distribution over the range 0 to 15.)"
   ]
  },
  {
   "cell_type": "markdown",
   "metadata": {},
   "source": [
    "11. Find out\n",
    "\n",
    "  (a) The mean and variance of the distribution\n",
    "  \n",
    "  (b) The probability that two customers arrive in a particular hour\n",
    "  \n",
    "  (c) The probability fewer than 10 arrive\n",
    "  \n",
    "  (d) The probability that no more than 10 arrive\n",
    "  \n",
    "  (e) The probability that more than 15 arrive"
   ]
  },
  {
   "cell_type": "markdown",
   "metadata": {},
   "source": [
    "## Model fitting\n",
    "\n",
    "(9 Marks)\n",
    "\n",
    "Use the European Birds data set from above.  before you start, ensure that you rename the column `Sexual.Dimorphism` as `SexualDimorphism` - since the '.' in its name causes a problem for the ols fitting command.  Use the `rename()` command to do this."
   ]
  },
  {
   "cell_type": "markdown",
   "metadata": {},
   "source": [
    "12. Draw a scatter plot of the log of female bill length against the log of female breeding weight.  Distinguish using a plot symbol species that are or are not sexually dimorphic (with a difference between males and females in size/colour)."
   ]
  },
  {
   "cell_type": "markdown",
   "metadata": {},
   "source": [
    "13. Fit a regression model for log female bill length as predicted by log female breeding weight.  \n",
    "\n",
    "  (a) Print out a summary of the model fit\n",
    "  \n",
    "  (b) Plot the fitted curve onto the data\n",
    "  \n",
    "  (c) Draw a scatter plot of the residuals and comment on them"
   ]
  },
  {
   "cell_type": "markdown",
   "metadata": {},
   "source": [
    "14. Now add Sexual Dimorphism as a covariate, and see if that improves the model by inspecting the residual scatter plot."
   ]
  },
  {
   "cell_type": "markdown",
   "metadata": {},
   "source": [
    "## Ethical and privacy issues\n",
    "\n",
    "(5 Marks)\n",
    "\n",
    "15.  During the Coronavirus pandemic, many countries are investigating the electronic collection of contact data as a means of identifying close contacts of people who are diagnosed with Covid-19.   One possibility is an app on a smartphone which broadcasts an identifier which other devices record when in close proximity.  If a person is identified as a case, then the data from their app is used to identify the personal devices to which they have been close in the previous weeks.  \n",
    "<br>Write a short discussion, of about 250-300 words, about the issues of **privacy**, **security** and **confidentiality** that you see with a plan of this sort."
   ]
  }
 ],
 "metadata": {
  "kernelspec": {
   "display_name": "Python 3",
   "language": "python",
   "name": "python3"
  },
  "language_info": {
   "codemirror_mode": {
    "name": "ipython",
    "version": 3
   },
   "file_extension": ".py",
   "mimetype": "text/x-python",
   "name": "python",
   "nbconvert_exporter": "python",
   "pygments_lexer": "ipython3",
   "version": "3.7.6"
  }
 },
 "nbformat": 4,
 "nbformat_minor": 2
}
